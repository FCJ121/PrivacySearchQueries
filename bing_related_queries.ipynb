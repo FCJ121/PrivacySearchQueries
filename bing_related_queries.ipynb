{
 "cells": [
  {
   "cell_type": "code",
   "execution_count": 53,
   "metadata": {
    "collapsed": false
   },
   "outputs": [],
   "source": [
    "\"\"\"TypeUsage python bing_related_queries -s seed_word -t threshold -f factor -o overlap_method\n",
    "Where threshold and factor are fractions less than 1.00, overlap_method\n",
    "should either be (s)tring or (n)gram\"\"\"\n",
    "from nltk.corpus import stopwords\n",
    "from collections import OrderedDict\n",
    "from xml.dom.minidom import parseString\n",
    "from random import choice\n",
    "from keys import bing_keys\n",
    "import argparse\n",
    "import requests\n",
    "import sys\n",
    "import csv"
   ]
  },
  {
   "cell_type": "code",
   "execution_count": 45,
   "metadata": {
    "collapsed": true
   },
   "outputs": [],
   "source": [
    "def get_apikey(k=None):\n",
    "    while True:\n",
    "        key = choice(bing_keys)\n",
    "        if key != k:\n",
    "            return key"
   ]
  },
  {
   "cell_type": "code",
   "execution_count": 46,
   "metadata": {
    "collapsed": false
   },
   "outputs": [],
   "source": [
    "url = \"https://ssl.bing.com/webmaster/api.svc/pox/GetRelatedKeywords\"\n",
    "params = {'startDate': '2015-09-01', \n",
    "          'endDate': '2016-09-01', \n",
    "          'language': 'en-US', \n",
    "          'country': 'us'}\n",
    "stop = stopwords.words('english')"
   ]
  },
  {
   "cell_type": "code",
   "execution_count": 47,
   "metadata": {
    "collapsed": false
   },
   "outputs": [],
   "source": [
    "# Structure to hold search queries by the length of their ngram. This is\n",
    "# find a faster lookup for determining overlap values quickly.\n",
    "approved_ngrams = dict()\n",
    "\n",
    "#A dictionary of approved queries along with their overlap value\n",
    "approved_queries = OrderedDict() \n",
    "rejected_queries = OrderedDict()\n",
    "\n",
    "# A set maintained for related queries where the overlap value was zero.\n",
    "# This can happen when either none of the related keywords appear in the\n",
    "# approved ngrams or we could not find any related keywords for the\n",
    "# given seed query.\n",
    "junk_related_keywords = set()"
   ]
  },
  {
   "cell_type": "code",
   "execution_count": 32,
   "metadata": {
    "collapsed": true
   },
   "outputs": [],
   "source": [
    "\"\"\"A method that cleans the list of obtained queries by removing stopwords\n",
    "from every query and return the cleaned queries as a list\"\"\"\n",
    "def clean_obtained_queries(queries):\n",
    "    clean_related_queries = []\n",
    "    for q in queries:\n",
    "        words = nltk.word_tokenize(q)\n",
    "        query = (\" \".join([i for i in words if i not in stop])).strip(' .,\\'')\n",
    "        clean_related_queries.append(query)\n",
    "    return clean_related_queries"
   ]
  },
  {
   "cell_type": "code",
   "execution_count": 67,
   "metadata": {
    "collapsed": true
   },
   "outputs": [],
   "source": [
    "\"\"\"A method that calculates overlap between a list of related \n",
    "queries and the global set of already approved queries.\"\"\"\n",
    "def get_overlap(related_queries, method):\n",
    "    if len(approved_ngrams)==0 or len(approved_queries) == 0:\n",
    "        return 1\n",
    "    if len(related_queries)==0:\n",
    "        return 0\n",
    "    count = 0.0\n",
    "    for item in related_queries:\n",
    "        if method == 'n':\n",
    "            item_set = set(item.split())\n",
    "            if len(item_set) in approved_ngrams:\n",
    "                len_list = approved_ngrams[len(item_set)]\n",
    "                if len_list is not None:\n",
    "                    for ngram in len_list:\n",
    "                        inter = item_set & set(ngram.split())\n",
    "                        if len(inter) == len(item_set):\n",
    "                            count += 1\n",
    "                            break\n",
    "        elif method == 's':\n",
    "            if item in approved_queries.keys():\n",
    "                count += 1\n",
    "            \n",
    "    control_size = min(len(approved_queries), len(related_queries))\n",
    "    return count/control_size"
   ]
  },
  {
   "cell_type": "code",
   "execution_count": 68,
   "metadata": {
    "collapsed": false
   },
   "outputs": [],
   "source": [
    "def save_related_queries(seed, threshold, factor, method):\n",
    "    a_name = './data/' + seed + '_' + threshold + '_' + factor + '_' + method + '_' + 'approved.csv'\n",
    "    r_name = './data/' + seed + '_' + threshold + '_' + factor + '_' + method + '_' + 'rejected.csv'\n",
    "        \n",
    "    with open(a_name, 'w') as f:\n",
    "        csv_writer = csv.writer(f, lineterminator='\\n')\n",
    "        for (k, v) in approved_queries.iteritems():\n",
    "            csv_writer.writerow([k, v])\n",
    "            \n",
    "    with open(r_name, 'w') as f:\n",
    "        csv_writer = csv.writer(f, lineterminator='\\n')\n",
    "        for (k, v) in rejected_queries.iteritems():\n",
    "            csv_writer.writerow([k, v])    "
   ]
  },
  {
   "cell_type": "code",
   "execution_count": 65,
   "metadata": {
    "collapsed": false
   },
   "outputs": [],
   "source": [
    "def main():\n",
    "    ap = argparse.ArgumentParser(description='Argument parser for bing api get related search queries script')\n",
    "    ap.add_argument('-s', '-seed', help='Seed word', required=True)\n",
    "    ap.add_argument('-t', '-threshold', help='Overlapping threshold', default=0.25)\n",
    "    ap.add_argument('-f', '-factor', help='Selection factor of approved related keywords', default=1.00)\n",
    "    ap.add_argument('-o', '-overlap', help='Overlapping measurement method', default='n')\n",
    "    args = ap.parse_args()\n",
    "    \n",
    "    # Default values\n",
    "    seed_word = args.s\n",
    "    threshold = args.t\n",
    "    selection_factor = args.f\n",
    "    overlap_method = args.o\n",
    "    \n",
    "    newset = [seed_word]\n",
    "    while 0 < len(newset) and len(newset) < 40000:\n",
    "        new_query = newset.pop(0)\n",
    "\n",
    "        # Set the parameters for this search query\n",
    "        params['q'] = new_query\n",
    "        params['apikey'] = get_apikey()\n",
    "\n",
    "        # If this query appears anywhere in the approved, rejected, or\n",
    "        # junk queries, then don't process it.\n",
    "        if  (new_query in approved_queries) or (new_query in rejected_queries) or (new_query in junk_related_keywords):\n",
    "            continue\n",
    "        try:   \n",
    "            # Fetch the response.\n",
    "            session = requests.Session()\n",
    "            response = session.get(url, params=params)\n",
    "\n",
    "            # Check whether the response code is not 200 (ok).\n",
    "            if response.status_code != 200:\n",
    "                # Change to another random api key and try again.\n",
    "                params['apikey'] = get_apikey(params['apikey'])\n",
    "                print response.text\n",
    "                continue\n",
    "\n",
    "            try:\n",
    "                doc = parseString(response.text)\n",
    "            except Exception as e:\n",
    "                print 'Error parsing response ' + str(e)\n",
    "                continue\n",
    "\n",
    "            response.close\n",
    "\n",
    "            # Extract all the related queries for the new query.\n",
    "            related_keywords = list()\n",
    "            for element in doc.getElementsByTagName('Query'):\n",
    "                related_keywords.append(element.firstChild.nodeValue)\n",
    "\n",
    "            # Remove stopwords from the related keywords.\n",
    "            related_keywords = clean_obtained_queries(related_keywords)\n",
    "\n",
    "            # Get overlap value\n",
    "            overlap_value = get_overlap(related_keywords, overlap_method)\n",
    "\n",
    "            if overlap_value >= threshold:\n",
    "                # Overlap value is beyond threshold. Save the new \n",
    "                # query's overlap value and add it to the approved\n",
    "                # queries list.\n",
    "                approved_queries[new_query] = overlap_value\n",
    "\n",
    "                # The related keywords are now cadidates for further\n",
    "                # related keyword fetching.\n",
    "                subset_index = int(selection_factor * len(related_keywords))\n",
    "                newset.extend(related_keywords[0:subset_index])\n",
    "\n",
    "                # Add the new query to the approved ngrams.\n",
    "                l = len(new_query.split())\n",
    "                approved_ngrams[l] = approved_ngrams.get(l, []).append(new_query)\n",
    "            else:\n",
    "                # Reject the new query.\n",
    "                rejected_queries[new_query] = overlap_value\n",
    "                \n",
    "                # If the overlap value is zero, then add them to junk queries.\n",
    "                if overlap_value == 0:\n",
    "                    junk_related_keywords |= set(related_keywords)\n",
    "\n",
    "        except Exception as e:\n",
    "            print 'Error processing request ' + str(e)\n",
    "            continue\n",
    "        finally:\n",
    "            save_related_queries(seed_word, threshold, selection_factor, overlap_method)\n",
    "            return"
   ]
  },
  {
   "cell_type": "code",
   "execution_count": 60,
   "metadata": {
    "collapsed": false
   },
   "outputs": [
    {
     "name": "stderr",
     "output_type": "stream",
     "text": [
      "usage: __main__.py [-h] -s S [-t T] [-f F] [-o O]\n",
      "__main__.py: error: argument -s/-seed is required\n"
     ]
    },
    {
     "ename": "SystemExit",
     "evalue": "2",
     "output_type": "error",
     "traceback": [
      "An exception has occurred, use %tb to see the full traceback.\n",
      "\u001b[0;31mSystemExit\u001b[0m\u001b[0;31m:\u001b[0m 2\n"
     ]
    },
    {
     "name": "stderr",
     "output_type": "stream",
     "text": [
      "To exit: use 'exit', 'quit', or Ctrl-D.\n"
     ]
    }
   ],
   "source": [
    "if __name__ == '__main__':\n",
    "    main()"
   ]
  }
 ],
 "metadata": {
  "kernelspec": {
   "display_name": "Python 2",
   "language": "python",
   "name": "python2"
  },
  "language_info": {
   "codemirror_mode": {
    "name": "ipython",
    "version": 2
   },
   "file_extension": ".py",
   "mimetype": "text/x-python",
   "name": "python",
   "nbconvert_exporter": "python",
   "pygments_lexer": "ipython2",
   "version": "2.7.11"
  }
 },
 "nbformat": 4,
 "nbformat_minor": 0
}
