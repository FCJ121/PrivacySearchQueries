{
 "cells": [
  {
   "cell_type": "code",
   "execution_count": 10,
   "metadata": {
    "collapsed": true
   },
   "outputs": [],
   "source": [
    "import google_query_similarity as gr\n",
    "from collections import OrderedDict\n",
    "import argparse\n",
    "import csv"
   ]
  },
  {
   "cell_type": "code",
   "execution_count": null,
   "metadata": {
    "collapsed": true
   },
   "outputs": [],
   "source": [
    "def save_related_queries(seed, approved, rejected):\n",
    "    name_suffix = './googledata/' + seed.replace(' ', '_') + '_' \n",
    "    a_name =  name_suffix + 'approved.csv'\n",
    "    r_name = name_suffix + 'rejected.csv'\n",
    "        \n",
    "    with open(a_name, 'w') as f:\n",
    "        csv_writer = csv.writer(f, lineterminator='\\n')\n",
    "        for (k, v) in approved_queries.iteritems():\n",
    "            csv_writer.writerow([k, v])\n",
    "            \n",
    "    with open(r_name, 'w') as f:\n",
    "        csv_writer = csv.writer(f, lineterminator='\\n')\n",
    "        for (k, v) in rejected_queries.iteritems():\n",
    "            csv_writer.writerow([k, v])    "
   ]
  },
  {
   "cell_type": "code",
   "execution_count": 11,
   "metadata": {
    "collapsed": false
   },
   "outputs": [],
   "source": [
    "def do_stuff(seed, limit):\n",
    "    # Expansion set and first iteration of  for the seed.\n",
    "    seed_page = gr.get_query_html(seed)\n",
    "    seed_rs = gr.google_related_searches(seed_page)\n",
    "    seed_es = gr.google_expanded_docs(seed_page)\n",
    "    \n",
    "    # Dictionaries of approved and rejected queries along with their kernel value.\n",
    "    approved = OrderedDict()\n",
    "    rejected = OrderedDict()\n",
    "    \n",
    "    # We do not want to go beyond a certain iteration.\n",
    "    iteration = 0\n",
    "    candidates = list()\n",
    "    \n",
    "    # Initiate the candidates with the seed's related queries.\n",
    "    candidates.extend(seed_rs)\n",
    "    while iteration < limit:\n",
    "        next_candidates = list()\n",
    "        threshold = 1.0\n",
    "        while len(candidates) > 0:\n",
    "            candidate = candidates.pop(0)\n",
    "            # If the candidate appears in either the accepted\n",
    "            # or rejected sets then don't process it.\n",
    "            if (candidate in approved) or (candidate in rejected):\n",
    "                continue\n",
    "            \n",
    "            # Get the candidate's related searches and extended set.\n",
    "            can_page = gr.get_query_html(candidate)\n",
    "            can_rs = gr.google_related_searches(can_page)\n",
    "            can_es = gr.google_expanded_docs(can_page)\n",
    "            \n",
    "            # Retrieve the kernel value.\n",
    "            kval = gr.kval_es(seed_es, can_es)\n",
    "            \n",
    "            # If this is the first iteration accept all.\n",
    "            # Otherwise if the kernel value is less than\n",
    "            # the threshold then reject it.\n",
    "            if iteration == 0:\n",
    "                # For the first iteration accept everything.\n",
    "                approved[candidate] = kval\n",
    "                \n",
    "                # Set the threshold to the minimum of the first iteration.\n",
    "                if kval < threshold:\n",
    "                    threshold = kval                \n",
    "            else:\n",
    "                # For further iteration, only accept if kernel \n",
    "                # value is greater than the threshold.\n",
    "                if kval > threshold:\n",
    "                    approved[candidate] = kval \n",
    "                else:\n",
    "                    rejected[candidate] = kval                \n",
    "            \n",
    "            # Add the candidate's related searches to the next_candidates.\n",
    "            next_candidates.extend(can_rs)\n",
    "            \n",
    "        # Add the next candidates to the candidates set\n",
    "        # and increase the iteration count.\n",
    "        candidates.extend(next_candidates)\n",
    "        iteration += 1\n",
    "        \n",
    "    save_related_queries(seed, approved, rejected)\n",
    "    return"
   ]
  },
  {
   "cell_type": "code",
   "execution_count": 8,
   "metadata": {
    "collapsed": true
   },
   "outputs": [],
   "source": [
    "def main():\n",
    "    ap = argparse.ArgumentParser(description='Use the script to pull google related search queries.')\n",
    "    ap.add_argument('-s', '-seed', help='Seed word', required=True)\n",
    "    ap.add_argument('-i', '-iteration', help='limit to number of related search iteration', default=3)\n",
    "    \n",
    "    args = ap.parse_args()\n",
    "    \n",
    "    seed = args.s\n",
    "    limit = args.i\n",
    "    \n",
    "    do_stuff(seed, limit)\n",
    "    return"
   ]
  },
  {
   "cell_type": "code",
   "execution_count": null,
   "metadata": {
    "collapsed": true
   },
   "outputs": [],
   "source": [
    "if __name__ == '__main__':\n",
    "    main()"
   ]
  }
 ],
 "metadata": {
  "kernelspec": {
   "display_name": "Python 2",
   "language": "python",
   "name": "python2"
  },
  "language_info": {
   "codemirror_mode": {
    "name": "ipython",
    "version": 2
   },
   "file_extension": ".py",
   "mimetype": "text/x-python",
   "name": "python",
   "nbconvert_exporter": "python",
   "pygments_lexer": "ipython2",
   "version": "2.7.11"
  }
 },
 "nbformat": 4,
 "nbformat_minor": 0
}
