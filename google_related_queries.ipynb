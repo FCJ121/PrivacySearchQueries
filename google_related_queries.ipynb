{
 "cells": [
  {
   "cell_type": "code",
   "execution_count": 2,
   "metadata": {
    "collapsed": true
   },
   "outputs": [],
   "source": [
    "import google_query_similarity as gr\n",
    "from collections import OrderedDict\n",
    "import argparse\n",
    "import csv\n",
    "import os\n",
    "import pickle"
   ]
  },
  {
   "cell_type": "code",
   "execution_count": 15,
   "metadata": {
    "collapsed": true
   },
   "outputs": [],
   "source": [
    "class ScrapeState():\n",
    "    def __init__(self, seed):\n",
    "        self.seed = seed\n",
    "        self.iteration = 0\n",
    "        self.candidates = list()\n",
    "        self.next_candidates = list()\n",
    "        self.threshold = 1.0\n",
    "        \n",
    "    def pickle(self):\n",
    "        name_suffix = './googledata/' + self.seed.replace(' ', '_') \n",
    "        with open(name_suffix, 'wb') as f:\n",
    "            pickle.dump(self.__dict__, f, pickle.HIGHEST_PROTOCOL)        \n",
    "\n",
    "    def unpickle(self):\n",
    "        name_suffix = './googledata/' + self.seed.replace(' ', '_') \n",
    "        if os.path.isfile(name_suffix):\n",
    "            with open(name_suffix, 'rb') as f:\n",
    "                tmp = pickle.load(f)\n",
    "                self.__dict__.update(tmp)\n",
    "    \n",
    "    def display(self):\n",
    "        attrs = vars(self)\n",
    "        print '\\n'.join(\"%s: %s\" % item for item in attrs.items())"
   ]
  },
  {
   "cell_type": "code",
   "execution_count": 16,
   "metadata": {
    "collapsed": true
   },
   "outputs": [],
   "source": [
    "def load_dictionaries(seed):\n",
    "    # Dictionaries of approved and rejected queries\n",
    "    # along with their kernel value.\n",
    "    approved = OrderedDict()\n",
    "    rejected = OrderedDict()\n",
    "    \n",
    "    name_suffix = './googledata/' + seed.replace(' ', '_') + '_' \n",
    "    a_name =  name_suffix + 'approved.csv'\n",
    "    r_name = name_suffix + 'rejected.csv'\n",
    "    \n",
    "    if os.path.isfile(a_name):\n",
    "        with open(a_name, mode='r') as f:\n",
    "            reader = csv.reader(f)\n",
    "            approved = {rows[0]:(rows[1], rows[2]) for rows in reader}\n",
    "\n",
    "    if os.path.isfile(r_name):\n",
    "        with open(r_name, mode='r') as f:\n",
    "            reader = csv.reader(f)\n",
    "            rejected = {rows[0]:(rows[1], rows[2]) for rows in reader}\n",
    "    \n",
    "    return approved, rejected"
   ]
  },
  {
   "cell_type": "code",
   "execution_count": 17,
   "metadata": {
    "collapsed": true
   },
   "outputs": [],
   "source": [
    "def save_related_queries(seed, approved, rejected):\n",
    "    name_suffix = './googledata/' + seed.replace(' ', '_') + '_' \n",
    "    a_name =  name_suffix + 'approved.csv'\n",
    "    r_name = name_suffix + 'rejected.csv'\n",
    "        \n",
    "    with open(a_name, 'w') as f:\n",
    "        csv_writer = csv.writer(f, lineterminator='\\n')\n",
    "        for (k, v) in approved.iteritems():\n",
    "            csv_writer.writerow([k, v[0], v[1]])\n",
    "            \n",
    "    with open(r_name, 'w') as f:\n",
    "        csv_writer = csv.writer(f, lineterminator='\\n')\n",
    "        for (k, v) in rejected.iteritems():\n",
    "            csv_writer.writerow([k, v[0], v[1]])    "
   ]
  },
  {
   "cell_type": "code",
   "execution_count": 6,
   "metadata": {
    "collapsed": false
   },
   "outputs": [],
   "source": [
    "def do_stuff(seed, limit, keycnt):\n",
    "    # Load the approved and rejected set \n",
    "    # from the previous attempt if any.\n",
    "    approved, rejected = load_dictionaries(seed)\n",
    "    \n",
    "    # Everything we need to run is in this state object.\n",
    "    # We load it from the last attempt if any.\n",
    "    state = ScrapeState(seed)\n",
    "    state.unpickle()\n",
    "    state.display()\n",
    "    \n",
    "    # Create space for iteration 0 if necessary.\n",
    "    iter0 = OrderedDict()\n",
    "    iter0kvals = list()\n",
    "    \n",
    "    try:\n",
    "        # Expansion set and first iteration of  for the seed.\n",
    "        seed_page = gr.get_query_html(seed, keycnt)\n",
    "        seed_rs = gr.google_related_searches(seed_page)\n",
    "        seed_es = gr.google_expanded_docs(seed_page)    \n",
    "\n",
    "        # Initiate the candidates with the seed's related queries as (related search, parent) tuple.\n",
    "        # The parent in this case is the seed.\n",
    "        for rs in seed_rs:\n",
    "            state.candidates.append((rs, seed))\n",
    "        while state.iteration < limit:\n",
    "            while len(state.candidates) > 0:\n",
    "                (candidate, parent) = state.candidates.pop(0)\n",
    "                # If the candidate appears in either the accepted\n",
    "                # or rejected sets then don't process it.\n",
    "                if (candidate in approved) or (candidate in rejected):\n",
    "                    continue\n",
    "\n",
    "                # Get the candidate's related searches and extended set.\n",
    "                can_page = gr.get_query_html(candidate, keycnt)\n",
    "                \n",
    "                try:\n",
    "                    can_rs = gr.google_related_searches(can_page)\n",
    "                    can_es = gr.google_expanded_docs(can_page)\n",
    "                except Exception as e:\n",
    "                    print 'Error parsing google search results: ' + str(e)\n",
    "                    print 'Candidate query: ' + candidate\n",
    "                    continue\n",
    "                    \n",
    "                # Retrieve the kernel value.\n",
    "                kval = gr.kval_es(seed_es, can_es)\n",
    "\n",
    "                # If this is the first iteration accept all.\n",
    "                # Otherwise if the kernel value is less than\n",
    "                # the threshold then reject it.\n",
    "                if state.iteration == 0:\n",
    "                    # For the first iteration store everything inside iter0.\n",
    "                    # We will figure out everything at the end of the iteration.\n",
    "                    iter0[candidate] = (parent, kval)\n",
    "                    iter0kvals.append(kval)\n",
    "                else:\n",
    "                    # For further iteration, only accept if kernel \n",
    "                    # value is greater than the threshold.\n",
    "                    if kval >= state.threshold:\n",
    "                        approved[candidate] = (parent, kval)\n",
    "                    else:\n",
    "                        rejected[candidate] = (parent, kval)              \n",
    "\n",
    "                # Add the candidate's related searches to the next_candidates.\n",
    "                for rs in can_rs:\n",
    "                    state.next_candidates.append((rs, candidate))\n",
    "\n",
    "            # Add the next candidates to the candidates set\n",
    "            # and increase the iteration count.\n",
    "            state.candidates.extend(state.next_candidates)\n",
    "            state.next_candidates = list()\n",
    "            \n",
    "            # Before incrementing the iteration counter, process \n",
    "            # the first iteration if this is the first iteration.\n",
    "            if state.iteration == 0:\n",
    "                q75, q25 = np.percentile(iter0kvals, [75 ,25])\n",
    "                iqr = q75 - q25\n",
    "                state.threshold = q25 - (1.5 * iqr)\n",
    "                \n",
    "                # Process the iteration 0 candidates and later ones\n",
    "                # based on this threshold.\n",
    "                for (k,v) in iter0.iteritems():\n",
    "                    if v[1] >= state.threshold:\n",
    "                        approved[k] = v\n",
    "                    else:\n",
    "                        rejected[k] = v\n",
    "            \n",
    "            state.iteration += 1\n",
    "    except Exception as e:\n",
    "        print 'Error retrieving google search results: ' + str(e)\n",
    "    finally:\n",
    "        save_related_queries(seed, approved, rejected)\n",
    "        state.pickle()\n",
    "    return"
   ]
  },
  {
   "cell_type": "code",
   "execution_count": 7,
   "metadata": {
    "collapsed": true
   },
   "outputs": [],
   "source": [
    "def main():\n",
    "    ap = argparse.ArgumentParser(description='Use the script to pull google related search queries.')\n",
    "    ap.add_argument('-s', '-seed', help='Seed word', required=True)\n",
    "    ap.add_argument('-i', '-iteration', help='limit to number of related search iteration', default=3)\n",
    "    ap.add_argument('-k', '-keywordlimit', help='limit to number of keyword request per hour', default=30)\n",
    "    \n",
    "    args = ap.parse_args()\n",
    "    \n",
    "    seed = args.s\n",
    "    limit = int(args.i)\n",
    "    keycnt = int(args.k)\n",
    "    \n",
    "    do_stuff(seed, limit, keycnt)\n",
    "    return"
   ]
  },
  {
   "cell_type": "code",
   "execution_count": null,
   "metadata": {
    "collapsed": true
   },
   "outputs": [],
   "source": [
    "if __name__ == '__main__':\n",
    "    main()"
   ]
  }
 ],
 "metadata": {
  "kernelspec": {
   "display_name": "Python 2",
   "language": "python",
   "name": "python2"
  },
  "language_info": {
   "codemirror_mode": {
    "name": "ipython",
    "version": 2
   },
   "file_extension": ".py",
   "mimetype": "text/x-python",
   "name": "python",
   "nbconvert_exporter": "python",
   "pygments_lexer": "ipython2",
   "version": "2.7.11"
  }
 },
 "nbformat": 4,
 "nbformat_minor": 0
}
