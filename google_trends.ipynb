{
 "cells": [
  {
   "cell_type": "code",
   "execution_count": 32,
   "metadata": {
    "collapsed": false
   },
   "outputs": [],
   "source": [
    "from __future__ import division\n",
    "from pytrends.request import TrendReq, ResponseError, RateLimitError\n",
    "from random import randint\n",
    "from time import sleep\n",
    "from keys import google_user, google_pass\n",
    "import csv\n",
    "import argparse\n",
    "import traceback\n",
    "import os\n",
    "import pandas as pd"
   ]
  },
  {
   "cell_type": "code",
   "execution_count": 16,
   "metadata": {
    "collapsed": true
   },
   "outputs": [],
   "source": [
    "MIN_WAIT = 5\n",
    "trend_keywords = list()\n",
    "no_response_list = list()\n",
    "NO_TRENDS_KEYWORDS_FILE = './gtrends/no_trends_data.txt'"
   ]
  },
  {
   "cell_type": "code",
   "execution_count": 34,
   "metadata": {
    "collapsed": false
   },
   "outputs": [],
   "source": [
    "def get_trend_data(t, term, label, directory):\n",
    "    global MIN_WAIT\n",
    "    # Concoct the dictionary for querying gtrends.\n",
    "    payload = dict()\n",
    "    payload['q'] = term\n",
    "    payload['geo'] = 'US'\n",
    "    payload['hl'] = 'en-US'\n",
    "    payload['date'] = '01/2011 66m'\n",
    "    try:\n",
    "        df = t.trend(payload, return_type='dataframe')\n",
    "        filename = directory + '/' + label + '.csv'\n",
    "        df.to_csv(filename)\n",
    "    except RateLimitError:\n",
    "        print 'Request limit exceeded, incrementing wait time between requests.'\n",
    "        # Increase time between requests and put back in the keywords list.\n",
    "        MIN_WAIT += 5\n",
    "        trend_keywords.append(term)\n",
    "    except (ResponseError, IndexError):\n",
    "        print 'No trend data for: ' + term\n",
    "        no_response_list.append(term)"
   ]
  },
  {
   "cell_type": "code",
   "execution_count": 33,
   "metadata": {
    "collapsed": false
   },
   "outputs": [],
   "source": [
    "def main():\n",
    "    ap = argparse.ArgumentParser(description='Argument parser for google trends api script')\n",
    "    ap.add_argument('-f', '-file', help='CSV file containing trend keywords at column 0', required=True)\n",
    "    ap.add_argument('-d', '-dir', help='All csv files to be written inside this directory within gtrends', required=True)\n",
    "    args = ap.parse_args()\n",
    "    \n",
    "    directory = './gtrends/' + args.d\n",
    "    if not os.path.exists(directory):\n",
    "        os.makedirs(directory)\n",
    "    \n",
    "    # Retrieve the list of keywords to be fetched into a list.\n",
    "    with open(args.f, 'r') as f:\n",
    "        reader = csv.reader(f)\n",
    "        for row in reader:\n",
    "            trend_keywords.append(row[0])\n",
    "    \n",
    "    total_terms = len(trend_keywords)\n",
    "    pyTrends = TrendReq(google_user, google_pass)\n",
    "    while trend_keywords:\n",
    "        term = trend_keywords.pop(0)\n",
    "        label = term.replace('/', '_')\n",
    "        get_trend_data(pyTrends, term, label, directory)\n",
    "        sleep(randint(MIN_WAIT, MIN_WAIT * 2))\n",
    "        \n",
    "    failed_terms = len(no_response_list)\n",
    "    with open(NO_TRENDS_KEYWORDS_FILE, 'a') as f:\n",
    "        success_rate = ((total_terms - failed_terms) / total_terms) * 100\n",
    "        f.write(args.d + ', sucess rate: ' + str(succcess_rate) + '%\\n')\n",
    "        f.write('\\n'.join(no_response_list))\n",
    "    return"
   ]
  },
  {
   "cell_type": "code",
   "execution_count": null,
   "metadata": {
    "collapsed": false
   },
   "outputs": [],
   "source": [
    "if __name__ == '__main__':\n",
    "    main()"
   ]
  }
 ],
 "metadata": {
  "kernelspec": {
   "display_name": "Python 2",
   "language": "python",
   "name": "python2"
  },
  "language_info": {
   "codemirror_mode": {
    "name": "ipython",
    "version": 2
   },
   "file_extension": ".py",
   "mimetype": "text/x-python",
   "name": "python",
   "nbconvert_exporter": "python",
   "pygments_lexer": "ipython2",
   "version": "2.7.11"
  }
 },
 "nbformat": 4,
 "nbformat_minor": 0
}
