{
 "cells": [
  {
   "cell_type": "code",
   "execution_count": 4,
   "metadata": {
    "collapsed": false
   },
   "outputs": [],
   "source": [
    "from pytrends.request import TrendReq\n",
    "from random import randint\n",
    "from time import sleep\n",
    "from keys import google_user, google_pass\n",
    "import csv\n",
    "import argparse\n",
    "import traceback\n",
    "import pandas as pd"
   ]
  },
  {
   "cell_type": "code",
   "execution_count": 7,
   "metadata": {
    "collapsed": true
   },
   "outputs": [],
   "source": [
    "def get_trend_data(t, term, label):\n",
    "    # Concoct the dictionary for querying gtrends.\n",
    "    payload = dict()\n",
    "    payload['q'] = term\n",
    "    payload['geo'] = 'US'\n",
    "    payload['hl'] = 'en-US'\n",
    "    payload['date'] = '01/2011 66m'\n",
    "    try:\n",
    "        df = t.trend(payload, return_type='dataframe')\n",
    "        filename = './gtrends/' + label + '.csv'\n",
    "        df.to_csv(filename)\n",
    "    except Exception as e:\n",
    "        print str(e)\n",
    "        print traceback.print_exc()"
   ]
  },
  {
   "cell_type": "code",
   "execution_count": 6,
   "metadata": {
    "collapsed": true
   },
   "outputs": [],
   "source": [
    "def main():\n",
    "    ap = argparse.ArgumentParser(description='Argument parser for google trends api script')\n",
    "    ap.add_argument('-f', '-file', help='CSV file containing trend keywords at column 0', required=True)\n",
    "    args = ap.parse_args()\n",
    "    \n",
    "    pyTrends = TrendReq(google_user, google_pass)\n",
    "    with open(args.f, 'r') as f:\n",
    "        reader = csv.reader(f)\n",
    "        for row in reader:\n",
    "            trend_term = row[0]\n",
    "            trend_label = trend_term.replace('/', '_')\n",
    "            get_trend_data(pyTrends, trend_term, trend_label)\n",
    "            sleep(randint(15,30))\n",
    "    return"
   ]
  },
  {
   "cell_type": "code",
   "execution_count": null,
   "metadata": {
    "collapsed": false
   },
   "outputs": [],
   "source": [
    "if __name__ == '__main__':\n",
    "    main()"
   ]
  }
 ],
 "metadata": {
  "kernelspec": {
   "display_name": "Python 2",
   "language": "python",
   "name": "python2"
  },
  "language_info": {
   "codemirror_mode": {
    "name": "ipython",
    "version": 2
   },
   "file_extension": ".py",
   "mimetype": "text/x-python",
   "name": "python",
   "nbconvert_exporter": "python",
   "pygments_lexer": "ipython2",
   "version": "2.7.11"
  }
 },
 "nbformat": 4,
 "nbformat_minor": 0
}
