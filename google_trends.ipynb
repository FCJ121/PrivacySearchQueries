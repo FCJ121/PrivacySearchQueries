{
 "cells": [
  {
   "cell_type": "code",
   "execution_count": 5,
   "metadata": {
    "collapsed": false
   },
   "outputs": [],
   "source": [
    "from __future__ import division\n",
    "from pytrends.request import TrendReq, ResponseError, RateLimitError\n",
    "from random import randint, shuffle\n",
    "from time import sleep\n",
    "from keys import google_auth\n",
    "import csv\n",
    "import argparse\n",
    "import traceback\n",
    "import os\n",
    "import pandas as pd"
   ]
  },
  {
   "cell_type": "code",
   "execution_count": 17,
   "metadata": {
    "collapsed": true
   },
   "outputs": [],
   "source": [
    "MIN_WAIT = 5"
   ]
  },
  {
   "cell_type": "code",
   "execution_count": 6,
   "metadata": {
    "collapsed": true
   },
   "outputs": [],
   "source": [
    "def get_google_auth():\n",
    "    shuffle(google_auth)\n",
    "    if len(google_auth) > 0:\n",
    "        return google_auth.pop(0)\n",
    "    return None"
   ]
  },
  {
   "cell_type": "code",
   "execution_count": 38,
   "metadata": {
    "collapsed": true
   },
   "outputs": [],
   "source": [
    "def write_failed_list(filename, seed, failed, count, succ):\n",
    "    with open(filename, 'w+') as f:\n",
    "        f.write('\\n'.join(failed))\n",
    "        if succ:\n",
    "            # Write over any failed list file if exists.\n",
    "            success_rate = ((count - len(failed)) / count) * 100    \n",
    "            f.write('\\n' + seed + ', sucess rate: ' + str(succcess_rate) + '%')"
   ]
  },
  {
   "cell_type": "code",
   "execution_count": 36,
   "metadata": {
    "collapsed": false
   },
   "outputs": [],
   "source": [
    "def get_trend_data(t, term, trends, failed, seed):\n",
    "    # First check if we have the data from some other session.\n",
    "    label = term.replace('/', '_')        \n",
    "    filename = os.path.join('./gtrends', seed, label + '.csv')\n",
    "    if os.path.isfile(filename):\n",
    "        return True\n",
    "    \n",
    "    # Concoct the dictionary for querying gtrends.\n",
    "    payload = dict()\n",
    "    payload['q'] = term\n",
    "    payload['geo'] = 'US'\n",
    "    payload['hl'] = 'en-US'\n",
    "    payload['date'] = '01/2011 66m'\n",
    "    try:\n",
    "        df = t.trend(payload, return_type='dataframe')\n",
    "        df.to_csv(filename)\n",
    "    except RateLimitError:\n",
    "        print 'Request limit exceeded, switch users.'\n",
    "        trends.append(term)\n",
    "        return False        \n",
    "    except (ResponseError, IndexError):\n",
    "        print 'No trend data for: ' + term\n",
    "        failed.append(term)\n",
    "    return True"
   ]
  },
  {
   "cell_type": "code",
   "execution_count": 40,
   "metadata": {
    "collapsed": false
   },
   "outputs": [],
   "source": [
    "def main():\n",
    "    ap = argparse.ArgumentParser(description='Use the script to pull google trends data.')\n",
    "    ap.add_argument('-f', '-file', help='CSV file containing trend keywords at column 0', required=True)\n",
    "    ap.add_argument('-d', '-dir', help='All csv files to be written inside this directory within gtrends', required=True)\n",
    "    args = ap.parse_args()\n",
    "    \n",
    "    trends_file = args.f\n",
    "    seed = args.d\n",
    "    \n",
    "    directory = os.path.join('./gtrends', seed)\n",
    "    if not os.path.exists(directory):\n",
    "        os.makedirs(directory)\n",
    "    \n",
    "    # Retrieve the list of keywords to be fetched into a list.\n",
    "    trends_list = list()\n",
    "    with open(trends_file, 'r') as f:\n",
    "        reader = csv.reader(f)\n",
    "        for row in reader:\n",
    "            trends_list.append(row[0])\n",
    "            \n",
    "    count = len(trends_list)\n",
    "    \n",
    "    # Retrieve the list of failed requests if any.\n",
    "    failed_file = os.path.join('./gtrends', seed, seed + ' no trends data.txt')\n",
    "    failed_list = list()\n",
    "    if os.path.isfile(failed_file):\n",
    "        with open(failed_file, 'r') as f:\n",
    "            failed_list = list(map(str.strip, f.readlines()))\n",
    "    \n",
    "    # Get authentication keys.\n",
    "    google_user, google_pass = get_google_auth()\n",
    "    pyTrends = TrendReq(google_user, google_pass)\n",
    "    while trends_list:\n",
    "        term = trends_list.pop(0)\n",
    "        if term in failed_list:\n",
    "            continue\n",
    "        \n",
    "        succ = get_trend_data(pyTrends, term, trends_list, failed_list, seed)\n",
    "        if succ:\n",
    "            # We managed to pull trend data, wait before next request.\n",
    "            sleep(randint(MIN_WAIT, MIN_WAIT * 2))\n",
    "        else:\n",
    "            # Request limit exceeded, establish new connection.\n",
    "            auth = get_google_auth()\n",
    "            if auth is not None:\n",
    "                google_user, google_pass = auth\n",
    "                pyTrends = TrendReq(google_user, google_pass)        \n",
    "            else:\n",
    "                print 'Google authentications exhausted, wait a few minutes and try again.'\n",
    "                write_failed_list(failed_file, seed, failed_list, count, False)\n",
    "                return\n",
    "        \n",
    "    write_failed_list(failed_file, seed, failed_list, count, True)\n",
    "    return"
   ]
  },
  {
   "cell_type": "code",
   "execution_count": 22,
   "metadata": {
    "collapsed": false
   },
   "outputs": [
    {
     "name": "stderr",
     "output_type": "stream",
     "text": [
      "usage: __main__.py [-h] -f F -d D\n",
      "__main__.py: error: argument -d/-dir is required\n"
     ]
    },
    {
     "ename": "SystemExit",
     "evalue": "2",
     "output_type": "error",
     "traceback": [
      "An exception has occurred, use %tb to see the full traceback.\n",
      "\u001b[0;31mSystemExit\u001b[0m\u001b[0;31m:\u001b[0m 2\n"
     ]
    },
    {
     "name": "stderr",
     "output_type": "stream",
     "text": [
      "To exit: use 'exit', 'quit', or Ctrl-D.\n"
     ]
    }
   ],
   "source": [
    "if __name__ == '__main__':\n",
    "    main()"
   ]
  }
 ],
 "metadata": {
  "kernelspec": {
   "display_name": "Python 2",
   "language": "python",
   "name": "python2"
  },
  "language_info": {
   "codemirror_mode": {
    "name": "ipython",
    "version": 2
   },
   "file_extension": ".py",
   "mimetype": "text/x-python",
   "name": "python",
   "nbconvert_exporter": "python",
   "pygments_lexer": "ipython2",
   "version": "2.7.11"
  }
 },
 "nbformat": 4,
 "nbformat_minor": 0
}
