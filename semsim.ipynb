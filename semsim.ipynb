{
 "cells": [
  {
   "cell_type": "code",
   "execution_count": 74,
   "metadata": {
    "collapsed": true
   },
   "outputs": [],
   "source": [
    "from __future__ import division\n",
    "from nltk.corpus import wordnet as wn\n",
    "from nltk.corpus import brown as bwn\n",
    "from textblob import Word\n",
    "import numpy as np\n",
    "import nltk\n",
    "import math\n",
    "import sys"
   ]
  },
  {
   "cell_type": "code",
   "execution_count": 23,
   "metadata": {
    "collapsed": true
   },
   "outputs": [],
   "source": [
    "# Parameters to the algorithm. Currently set to values that was reported\n",
    "# in the paper to produce \"best\" results.\n",
    "ALPHA = 0.2\n",
    "BETA = 0.45\n",
    "ETA = 0.4\n",
    "PHI = 0.2\n",
    "DELTA = 0.85"
   ]
  },
  {
   "cell_type": "code",
   "execution_count": 24,
   "metadata": {
    "collapsed": true
   },
   "outputs": [],
   "source": [
    "brown_freqs = dict()\n",
    "N = 0"
   ]
  },
  {
   "cell_type": "code",
   "execution_count": 26,
   "metadata": {
    "collapsed": true
   },
   "outputs": [],
   "source": [
    "def get_best_synset_pair(w1, w2):\n",
    "    \"\"\" \n",
    "    Choose the pair with highest path similarity among all pairs. \n",
    "    Mimics pattern-seeking behavior of humans.\n",
    "    \"\"\"\n",
    "    max_sim = -1.0\n",
    "    ss1 = wn.synsets(w1)\n",
    "    ss2 = wn.synsets(w2)\n",
    "    if len(ss1) == 0 or len(ss2) == 0:\n",
    "        return None, None\n",
    "    else:\n",
    "        max_sim = -1.0\n",
    "        best_pair = None, None\n",
    "        for s1 in ss1:\n",
    "            for s2 in ss2:\n",
    "               sim = wn.path_similarity(s1, s2)\n",
    "               if sim > max_sim:\n",
    "                   max_sim = sim\n",
    "                   best_pair = s1, s2\n",
    "        return best_pair"
   ]
  },
  {
   "cell_type": "code",
   "execution_count": 27,
   "metadata": {
    "collapsed": true
   },
   "outputs": [],
   "source": [
    "def length_dist(ss1, ss2):\n",
    "    \"\"\"\n",
    "    Return a measure of the length of the shortest path in the semantic \n",
    "    ontology (Wordnet in our case as well as the paper's) between two \n",
    "    synsets.\n",
    "    \"\"\"\n",
    "    l_dist = sys.maxint\n",
    "    if ss1 is None or ss2 is None: \n",
    "        return 0.0\n",
    "    if ss1 == ss2:\n",
    "        # if both are the same synset return 0\n",
    "        l_dist = 0.0\n",
    "    else:\n",
    "        wset1 = set([str(x.name()) for x in ss1.lemmas()])        \n",
    "        wset2 = set([str(x.name()) for x in ss2.lemmas()])\n",
    "        if len(wset1.intersection(wset2)) > 0:\n",
    "            # if sysnets are not same, but there is word overlap, return 1.0\n",
    "            l_dist = 1.0\n",
    "        else:\n",
    "            # just compute the shortest path between the two\n",
    "            l_dist = ss1.shortest_path_distance(ss2)\n",
    "            if l_dist is None:\n",
    "                l_dist = 0.0\n",
    "    # normalize path length to the range [0,1]\n",
    "    return math.exp(-ALPHA * l_dist)"
   ]
  },
  {
   "cell_type": "code",
   "execution_count": 32,
   "metadata": {
    "collapsed": true
   },
   "outputs": [],
   "source": [
    "def hierarchy_dist(ss1, ss2):\n",
    "    \"\"\"\n",
    "    Return a measure of depth in the ontology to model the fact that \n",
    "    nodes closer to the root are broader and have less semantic similarity\n",
    "    than nodes further away from the root.\n",
    "    \"\"\"\n",
    "    h_dist = sys.maxint\n",
    "    if ss1 is None or ss2 is None: \n",
    "        return h_dist\n",
    "    if ss1 == ss2:\n",
    "        # return the depth of one of the sysnets\n",
    "        h_dist = max([x[1] for x in ss1.hypernym_distances()])\n",
    "    else:\n",
    "        # find the max depth of least common subsumer\n",
    "        h1 = {x[0]:x[1] for x in ss1.hypernym_distances()}\n",
    "        h2 = {x[0]:x[1] for x in ss2.hypernym_distances()}\n",
    "        lcs_candidates = set(h1.keys()).intersection(set(h2.keys()))\n",
    "        if len(lcs_candidates) > 0:\n",
    "            lcs_dists = []\n",
    "            for lcs_candidate in lcs_candidates:\n",
    "                lcs_d1 = h1.get(lcs_candidate, 0)\n",
    "                lcs_d2 = h2.get(lcs_candidate, 0)\n",
    "                lcs_dists.append(max([lcs_d1, lcs_d2]))\n",
    "            h_dist = max(lcs_dists)\n",
    "        else:\n",
    "            h_dist = 0\n",
    "    return ((math.exp(BETA * h_dist) - math.exp(-BETA * h_dist)) / \n",
    "        (math.exp(BETA * h_dist) + math.exp(-BETA * h_dist)))"
   ]
  },
  {
   "cell_type": "code",
   "execution_count": 83,
   "metadata": {
    "collapsed": false
   },
   "outputs": [],
   "source": [
    "def word_similarity(w1, w2):\n",
    "    synset_pair = get_best_synset_pair(w1, w2)\n",
    "    return (length_dist(synset_pair[0], synset_pair[1]) * \n",
    "        hierarchy_dist(synset_pair[0], synset_pair[1]))"
   ]
  },
  {
   "cell_type": "code",
   "execution_count": 35,
   "metadata": {
    "collapsed": true
   },
   "outputs": [],
   "source": [
    "def most_similar_word(word, word_set):\n",
    "    \"\"\"\n",
    "    Find the word in the joint word set that is most similar to the word\n",
    "    passed in. We use the algorithm above to compute word similarity between\n",
    "    the word and each word in the joint word set, and return the most similar\n",
    "    word and the actual similarity value.\n",
    "    \"\"\"\n",
    "    max_sim = -1.0\n",
    "    sim_word = \"\"\n",
    "    for ref_word in word_set:\n",
    "      sim = word_similarity(word, ref_word)\n",
    "      if sim > max_sim:\n",
    "          max_sim = sim\n",
    "          sim_word = ref_word\n",
    "    return sim_word, max_sim"
   ]
  },
  {
   "cell_type": "code",
   "execution_count": 48,
   "metadata": {
    "collapsed": true
   },
   "outputs": [],
   "source": [
    "def run_once(f):\n",
    "    def wrapper(*args, **kwargs):\n",
    "        if not wrapper.has_run:\n",
    "            wrapper.has_run = True\n",
    "            return f(*args, **kwargs)\n",
    "    wrapper.has_run = False\n",
    "    return wrapper\n",
    "\n",
    "@run_once\n",
    "def build_ic():\n",
    "    global N\n",
    "    # Should print only once\n",
    "    print 'Building Brown corpus frequency dictionary.'\n",
    "    for sent in bwn.sents():\n",
    "        for word in sent:\n",
    "            word = word.lower()\n",
    "            if not brown_freqs.has_key(word):\n",
    "                brown_freqs[word] = 0\n",
    "            brown_freqs[word] = brown_freqs[word] + 1\n",
    "            N = N + 1\n",
    "\n",
    "def info_content(lookup_word):\n",
    "    \"\"\"\n",
    "    Uses the Brown corpus available in NLTK to calculate a Laplace\n",
    "    smoothed frequency distribution of words, then uses this information\n",
    "    to compute the information content of the lookup_word.\n",
    "    \"\"\"\n",
    "    build_ic()\n",
    "    lookup_word = lookup_word.lower()\n",
    "    n = 0 if not brown_freqs.has_key(lookup_word) else brown_freqs[lookup_word]\n",
    "    return 1.0 - (math.log(n + 1) / math.log(N + 1))"
   ]
  },
  {
   "cell_type": "code",
   "execution_count": 45,
   "metadata": {
    "collapsed": true
   },
   "outputs": [],
   "source": [
    "def semantic_vector(words, joint_words, ic):\n",
    "    \"\"\"\n",
    "    Computes the semantic vector of a sentence. The sentence is passed in as\n",
    "    a collection of words. The size of the semantic vector is the same as the\n",
    "    size of the joint word set. The elements are 1 if a word in the sentence\n",
    "    already exists in the joint word set, or the similarity of the word to the\n",
    "    most similar word in the joint word set if it doesn't. Both values are \n",
    "    further normalized by the word's (and similar word's) information content\n",
    "    if info_content_norm is True.\n",
    "    \"\"\"\n",
    "    sent_set = set(words)\n",
    "    semvec = np.zeros(len(joint_words))\n",
    "    i = 0\n",
    "    for joint_word in joint_words:\n",
    "        if joint_word in sent_set:\n",
    "            # if word in union exists in the sentence, s(i) = 1 (unnormalized)\n",
    "            semvec[i] = 1.0\n",
    "            if ic:\n",
    "                semvec[i] = semvec[i] * math.pow(info_content(joint_word), 2)\n",
    "        else:\n",
    "            # find the most similar word in the joint set and set the sim value\n",
    "            sim_word, max_sim = most_similar_word(joint_word, sent_set)\n",
    "            semvec[i] = PHI if max_sim > PHI else 0.0\n",
    "            if ic:\n",
    "                semvec[i] = semvec[i] * info_content(joint_word) * info_content(sim_word)\n",
    "        i = i + 1\n",
    "    return semvec"
   ]
  },
  {
   "cell_type": "code",
   "execution_count": 44,
   "metadata": {
    "collapsed": true
   },
   "outputs": [],
   "source": [
    "def semantic_similarity(s1, s2, ic):\n",
    "    \"\"\"\n",
    "    Computes the semantic similarity between two sentences as the cosine\n",
    "    similarity between the semantic vectors computed for each sentence.\n",
    "    \"\"\"\n",
    "    w1 = nltk.word_tokenize(s1)\n",
    "    w2 = nltk.word_tokenize(s2)\n",
    "    joint_words = set(w1).union(set(w2))\n",
    "    v1 = semantic_vector(w1, joint_words, ic)\n",
    "    v2 = semantic_vector(w2, joint_words, ic)\n",
    "    return np.dot(v1, v2.T) / (np.linalg.norm(v1) * np.linalg.norm(v2))"
   ]
  },
  {
   "cell_type": "code",
   "execution_count": 40,
   "metadata": {
    "collapsed": true
   },
   "outputs": [],
   "source": [
    "def word_order_vector(words, joint_words, windex):\n",
    "    \"\"\"\n",
    "    Computes the word order vector for a sentence. The sentence is passed\n",
    "    in as a collection of words. The size of the word order vector is the\n",
    "    same as the size of the joint word set. The elements of the word order\n",
    "    vector are the position mapping (from the windex dictionary) of the \n",
    "    word in the joint set if the word exists in the sentence. If the word\n",
    "    does not exist in the sentence, then the value of the element is the \n",
    "    position of the most similar word in the sentence as long as the similarity\n",
    "    is above the threshold ETA.\n",
    "    \"\"\"\n",
    "    wovec = np.zeros(len(joint_words))\n",
    "    i = 0\n",
    "    wordset = set(words)\n",
    "    for joint_word in joint_words:\n",
    "        if joint_word in wordset:\n",
    "            # word in joint_words found in sentence, just populate the index\n",
    "            wovec[i] = windex[joint_word]\n",
    "        else:\n",
    "            # word not in joint_words, find most similar word and populate\n",
    "            # word_vector with the thresholded similarity\n",
    "            sim_word, max_sim = most_similar_word(joint_word, wordset)\n",
    "            if max_sim > ETA:\n",
    "                wovec[i] = windex[sim_word]\n",
    "            else:\n",
    "                wovec[i] = 0\n",
    "        i = i + 1\n",
    "    return wovec"
   ]
  },
  {
   "cell_type": "code",
   "execution_count": 42,
   "metadata": {
    "collapsed": true
   },
   "outputs": [],
   "source": [
    "def word_order_similarity(s1, s2):\n",
    "    \"\"\"\n",
    "    Computes the word-order similarity between two sentences as the normalized\n",
    "    difference of word order between the two sentences.\n",
    "    \"\"\"\n",
    "    w1 = nltk.word_tokenize(s1)\n",
    "    w2 = nltk.word_tokenize(s2)\n",
    "    joint_words = list(set(w1).union(set(w2)))\n",
    "    windex = {x[1]: x[0] for x in enumerate(joint_words)}\n",
    "    r1 = word_order_vector(w1, joint_words, windex)\n",
    "    r2 = word_order_vector(w2, joint_words, windex)\n",
    "    return 1.0 - (np.linalg.norm(r1 - r2) / np.linalg.norm(r1 + r2))"
   ]
  },
  {
   "cell_type": "code",
   "execution_count": 43,
   "metadata": {
    "collapsed": true
   },
   "outputs": [],
   "source": [
    "def similarity(s1, s2, ic):\n",
    "    \"\"\"\n",
    "    Calculate the semantic similarity between two sentences. The last \n",
    "    parameter is True or False depending on whether information content\n",
    "    normalization is desired or not.\n",
    "    \"\"\"\n",
    "    return DELTA * semantic_similarity(s1, s2, ic) + \\\n",
    "        (1.0 - DELTA) * word_order_similarity(s1, s2)"
   ]
  },
  {
   "cell_type": "code",
   "execution_count": 59,
   "metadata": {
    "collapsed": false
   },
   "outputs": [
    {
     "name": "stdout",
     "output_type": "stream",
     "text": [
      "asylum\tfruit\t0.21\t0.30\n",
      "autograph\tshore\t0.29\t0.16\n",
      "autograph\tsignature\t0.55\t0.82\n",
      "automobile\tcar\t0.64\t1.00\n",
      "bird\twoodland\t0.33\t0.20\n",
      "boy\trooster\t0.53\t0.11\n",
      "boy\tlad\t0.66\t0.82\n",
      "boy\tsage\t0.51\t0.37\n",
      "cemetery\tgraveyard\t0.73\t1.00\n",
      "coast\tforest\t0.36\t0.36\n",
      "coast\tshore\t0.76\t0.80\n",
      "cock\trooster\t1.00\t1.00\n",
      "cord\tsmile\t0.33\t0.13\n",
      "cord\tstring\t0.68\t0.82\n",
      "cushion\tpillow\t0.66\t0.82\n",
      "forest\tgraveyard\t0.55\t0.20\n",
      "forest\twoodland\t0.70\t0.98\n",
      "furnace\tstove\t0.72\t0.17\n",
      "glass\ttumbler\t0.65\t0.82\n",
      "grin\tsmile\t0.49\t0.99\n",
      "gem\tjewel\t0.83\t1.00\n",
      "hill\twoodland\t0.59\t0.36\n",
      "hill\tmound\t0.74\t0.99\n",
      "implement\ttool\t0.75\t0.82\n",
      "journey\tvoyage\t0.52\t0.82\n",
      "magician\toracle\t0.44\t0.30\n",
      "magician\twizard\t0.65\t1.00\n",
      "midday\tnoon\t1.00\t1.00\n",
      "oracle\tsage\t0.43\t0.37\n",
      "serf\tslave\t0.39\t0.55\n"
     ]
    }
   ],
   "source": [
    "# the results of the algorithm are largely dependent on the results of \n",
    "# the word similarities, so we should test this first...\n",
    "word_pairs = [\n",
    "  [\"asylum\", \"fruit\", 0.21],\n",
    "  [\"autograph\", \"shore\", 0.29],\n",
    "  [\"autograph\", \"signature\", 0.55],\n",
    "  [\"automobile\", \"car\", 0.64],\n",
    "  [\"bird\", \"woodland\", 0.33],\n",
    "  [\"boy\", \"rooster\", 0.53],\n",
    "  [\"boy\", \"lad\", 0.66],\n",
    "  [\"boy\", \"sage\", 0.51],\n",
    "  [\"cemetery\", \"graveyard\", 0.73],\n",
    "  [\"coast\", \"forest\", 0.36],\n",
    "  [\"coast\", \"shore\", 0.76],\n",
    "  [\"cock\", \"rooster\", 1.00],\n",
    "  [\"cord\", \"smile\", 0.33],\n",
    "  [\"cord\", \"string\", 0.68],\n",
    "  [\"cushion\", \"pillow\", 0.66],\n",
    "  [\"forest\", \"graveyard\", 0.55],\n",
    "  [\"forest\", \"woodland\", 0.70],\n",
    "  [\"furnace\", \"stove\", 0.72],\n",
    "  [\"glass\", \"tumbler\", 0.65],\n",
    "  [\"grin\", \"smile\", 0.49],\n",
    "  [\"gem\", \"jewel\", 0.83],\n",
    "  [\"hill\", \"woodland\", 0.59],\n",
    "  [\"hill\", \"mound\", 0.74],\n",
    "  [\"implement\", \"tool\", 0.75],\n",
    "  [\"journey\", \"voyage\", 0.52],\n",
    "  [\"magician\", \"oracle\", 0.44],\n",
    "  [\"magician\", \"wizard\", 0.65],\n",
    "  [\"midday\", \"noon\", 1.0],\n",
    "  [\"oracle\", \"sage\", 0.43],\n",
    "  [\"serf\", \"slave\", 0.39]\n",
    "]\n",
    "for word_pair in word_pairs:\n",
    "    print \"%s\\t%s\\t%.2f\\t%.2f\" % (word_pair[0], word_pair[1], word_pair[2], \n",
    "                                  word_similarity(word_pair[0], word_pair[1]))"
   ]
  },
  {
   "cell_type": "code",
   "execution_count": 49,
   "metadata": {
    "collapsed": false
   },
   "outputs": [
    {
     "name": "stdout",
     "output_type": "stream",
     "text": [
      "Building Brown corpus frequency dictionary.\n",
      "I like that bachelor.\tI like that unmarried man.\t0.561\t0.801\t0.345\n",
      "John is very nice.\tIs John very nice?\t0.977\t0.592\t0.881\n",
      "Red alcoholic drink.\tA bottle of wine.\t0.585\t0.477\t0.307\n",
      "Red alcoholic drink.\tFresh orange juice.\t0.611\t0.467\t0.274\n",
      "Red alcoholic drink.\tAn English dictionary.\t0.000\t0.237\t0.028\n",
      "Red alcoholic drink.\tFresh apple juice.\t0.420\t0.389\t0.215\n",
      "A glass of cider.\tA full cup of apple juice.\t0.678\t0.659\t0.347\n",
      "It is a dog.\tThat must be your dog.\t0.739\t0.452\t0.709\n",
      "It is a dog.\tIt is a log.\t0.623\t0.858\t0.497\n",
      "It is a dog.\tIt is a pig.\t0.790\t0.863\t0.500\n",
      "Dogs are animals.\tThey are common pets.\t0.738\t0.550\t0.377\n",
      "Canis familiaris are animals.\tDogs are common pets.\t0.362\t0.458\t0.151\n",
      "I have a pen.\tWhere do you live?\t0.000\t0.134\t0.158\n",
      "I have a pen.\tWhere is ink?\t0.129\t0.112\t0.077\n",
      "I have a hammer.\tTake some nails.\t0.508\t0.431\t0.288\n",
      "I have a hammer.\tTake some apples.\t0.121\t0.344\t0.147\n"
     ]
    }
   ],
   "source": [
    "sentence_pairs = [\n",
    "    [\"I like that bachelor.\", \"I like that unmarried man.\", 0.561],\n",
    "    [\"John is very nice.\", \"Is John very nice?\", 0.977],\n",
    "    [\"Red alcoholic drink.\", \"A bottle of wine.\", 0.585],\n",
    "    [\"Red alcoholic drink.\", \"Fresh orange juice.\", 0.611],\n",
    "    [\"Red alcoholic drink.\", \"An English dictionary.\", 0.0],\n",
    "    [\"Red alcoholic drink.\", \"Fresh apple juice.\", 0.420],\n",
    "    [\"A glass of cider.\", \"A full cup of apple juice.\", 0.678],\n",
    "    [\"It is a dog.\", \"That must be your dog.\", 0.739],\n",
    "    [\"It is a dog.\", \"It is a log.\", 0.623],\n",
    "    [\"It is a dog.\", \"It is a pig.\", 0.790],\n",
    "    [\"Dogs are animals.\", \"They are common pets.\", 0.738],\n",
    "    [\"Canis familiaris are animals.\", \"Dogs are common pets.\", 0.362],\n",
    "    [\"I have a pen.\", \"Where do you live?\", 0.0],\n",
    "    [\"I have a pen.\", \"Where is ink?\", 0.129],\n",
    "    [\"I have a hammer.\", \"Take some nails.\", 0.508],\n",
    "    [\"I have a hammer.\", \"Take some apples.\", 0.121]\n",
    "]\n",
    "for sent_pair in sentence_pairs:\n",
    "    print \"%s\\t%s\\t%.3f\\t%.3f\\t%.3f\" % (sent_pair[0], sent_pair[1], sent_pair[2], \n",
    "        similarity(sent_pair[0], sent_pair[1], False),\n",
    "        similarity(sent_pair[0], sent_pair[1], True))"
   ]
  }
 ],
 "metadata": {
  "kernelspec": {
   "display_name": "Python 2",
   "language": "python",
   "name": "python2"
  },
  "language_info": {
   "codemirror_mode": {
    "name": "ipython",
    "version": 2
   },
   "file_extension": ".py",
   "mimetype": "text/x-python",
   "name": "python",
   "nbconvert_exporter": "python",
   "pygments_lexer": "ipython2",
   "version": "2.7.11"
  }
 },
 "nbformat": 4,
 "nbformat_minor": 0
}
